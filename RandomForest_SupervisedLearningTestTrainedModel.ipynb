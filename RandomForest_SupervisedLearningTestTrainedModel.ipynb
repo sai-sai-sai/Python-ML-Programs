{
 "cells": [
  {
   "cell_type": "code",
   "execution_count": 6,
   "metadata": {
    "collapsed": false
   },
   "outputs": [],
   "source": [
    "''' \n",
    "\n",
    "Use Case  : Analyze any new report that is planned to be developed / existing reports planned \n",
    "            to be changed, to find similar report already available to save time and cost\n",
    "Approach  : 1) Cluster the reports data using KMeans clustering algorithm\n",
    "            2) Train and store the random forest supervised learning model using KMeans clustering output\n",
    "            3) Predict the cluster a new report might belong using trained random forest learning model\n",
    "            4) Plot the dendogram to identify the similar report id\n",
    "\n",
    "This python code will address the step#3 of the above approach\n",
    "\n",
    "Author(s) : Kiran Muppala and Sai Krishna Chedemala for Reports Rationalization Proof of Concept\n",
    "Date      : 1-Mar-2017\n",
    "\n",
    "'''\n",
    "\n",
    "import pandas as pd\n",
    "import pickle\n",
    "from sklearn.feature_extraction.text import CountVectorizer\n",
    "from sklearn.ensemble import RandomForestClassifier\n",
    "\n",
    "## Import the trained model\n",
    "with open('RandomForestTrainedModel', 'rb') as f:\n",
    "    rf = pickle.load(f)\n",
    "\n",
    "## Test the trained model for accuracy\n",
    "## The input file contains test data - the report id, report details (headings) same as training data\n",
    "\n",
    "## *** this model has to be tested again using random data **\n",
    "\n",
    "testdata = pd.read_csv('ClusteredReportsTestData_2.csv',names=['RepID','RepCols','cl_no'],skiprows=[0],header=None)\n",
    "testArr = testdata['RepCols']\n",
    "\n",
    "## Vectorize the reports data to feed into the training model\n",
    "vect = CountVectorizer()\n",
    "test_rfdtm = vect.fit_transform(testArr)\n",
    "\n",
    "## Predict the clusters for the reports data in the test dataset using trained model\n",
    "results = rf.predict(test_rfdtm)\n",
    "\n",
    "## Compare the predictions with the training data side by side\n",
    "testdata['predictions'] = results\n",
    "\n",
    "## Download the predicted outcome into a csv file along with training data for comparison\n",
    "header = [\"RepID\",\"RepCols\",\"cl_no\",\"predictions\"]\n",
    "testdata.to_csv('ReportsPredictionOutput_3.csv',columns=header,index=False)\n"
   ]
  },
  {
   "cell_type": "code",
   "execution_count": null,
   "metadata": {
    "collapsed": true
   },
   "outputs": [],
   "source": []
  }
 ],
 "metadata": {
  "anaconda-cloud": {},
  "kernelspec": {
   "display_name": "Python [default]",
   "language": "python",
   "name": "python3"
  },
  "language_info": {
   "codemirror_mode": {
    "name": "ipython",
    "version": 3
   },
   "file_extension": ".py",
   "mimetype": "text/x-python",
   "name": "python",
   "nbconvert_exporter": "python",
   "pygments_lexer": "ipython3",
   "version": "3.5.2"
  }
 },
 "nbformat": 4,
 "nbformat_minor": 1
}
