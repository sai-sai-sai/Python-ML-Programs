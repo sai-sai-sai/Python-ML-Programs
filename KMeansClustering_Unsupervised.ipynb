{
 "cells": [
  {
   "cell_type": "code",
   "execution_count": 12,
   "metadata": {
    "collapsed": false
   },
   "outputs": [],
   "source": [
    "''' \n",
    "\n",
    "Use Case  : Analyze any new report that is planned to be developed / existing reports planned \n",
    "            to be changed, to find similar report already available to save time and cost\n",
    "Approach  : 1) Cluster the reports data using KMeans clustering algorithm\n",
    "            2) Train and store the random forest supervised learning model using KMeans clustering output\n",
    "            3) Predict the cluster a new report might belong using trained random forest learning model\n",
    "            4) Plot the dendogram to identify the similar report id\n",
    "\n",
    "This python code will address the step#1 of the above approach\n",
    "\n",
    "Author(s) : Sai Krishna Chedemala and Kiran Muppala for Reports Rationalization Proof of Concept\n",
    "Date      : 1-Mar-2017\n",
    "\n",
    "'''\n",
    "\n",
    "import pandas as pd\n",
    "from sklearn.feature_extraction.text import CountVectorizer\n",
    "from sklearn.feature_extraction.text import TfidfTransformer , TfidfVectorizer\n",
    "from sklearn.cluster import KMeans\n",
    "\n",
    "## Read cleaned reports data that contains report id and report column names / report heading\n",
    "rf = pd.read_csv('CleansedReportsData_0.csv',names=['RepID','RepCols'],skiprows=[0],header=None)\n",
    "rf_X = rf['RepCols']\n",
    "\n",
    "## Vectorize the report details to feed into KMeans clustering algorithm\n",
    "tfidf_vectorizer = TfidfVectorizer(use_idf=False)\n",
    "tfidf_matrix = tfidf_vectorizer.fit_transform(rf_X) \n",
    "\n",
    "## Initialize number of clusters to 5 and fit the vectorized data to KMeans clustering\n",
    "num_clusters = 5\n",
    "km = KMeans(n_clusters=num_clusters)\n",
    "km.fit(tfidf_matrix)\n",
    "clusters = km.labels_.tolist()\n",
    "\n",
    "## Map the clusters to the actual data loaded\n",
    "rf['cl_no'] = clusters\n",
    "\n",
    "## Store the KMeans clustering output in csv file. This output will be fed into learning model in step#2\n",
    "header = [\"RepID\",\"RepCols\",\"cl_no\"]\n",
    "rf.to_csv('ClusteredReportsData_1.csv',columns=header,index=False)"
   ]
  },
  {
   "cell_type": "code",
   "execution_count": null,
   "metadata": {
    "collapsed": true
   },
   "outputs": [],
   "source": []
  }
 ],
 "metadata": {
  "anaconda-cloud": {},
  "kernelspec": {
   "display_name": "Python [default]",
   "language": "python",
   "name": "python3"
  },
  "language_info": {
   "codemirror_mode": {
    "name": "ipython",
    "version": 3
   },
   "file_extension": ".py",
   "mimetype": "text/x-python",
   "name": "python",
   "nbconvert_exporter": "python",
   "pygments_lexer": "ipython3",
   "version": "3.5.2"
  }
 },
 "nbformat": 4,
 "nbformat_minor": 1
}
