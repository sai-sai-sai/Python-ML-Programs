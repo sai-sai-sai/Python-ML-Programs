{
 "cells": [
  {
   "cell_type": "code",
   "execution_count": 10,
   "metadata": {
    "collapsed": false
   },
   "outputs": [],
   "source": [
    "''' \n",
    "\n",
    "Use Case  : Analyze any new report that is planned to be developed / existing reports planned \n",
    "            to be changed, to find similar report already available to save time and cost\n",
    "Approach  : 1) Cluster the reports data using KMeans clustering algorithm\n",
    "            2) Train and store the random forest supervised learning model using KMeans clustering output\n",
    "            3) Predict the cluster a new report might belong using trained random forest learning model\n",
    "            4) Plot the dendogram to identify the similar report id\n",
    "\n",
    "This python code will address the step#2 of the above approach\n",
    "\n",
    "Author(s) : Kiran Muppala and Sai Krishna Chedemala for Reports Rationalization Proof of Concept\n",
    "Date      : 1-Mar-2017\n",
    "\n",
    "'''\n",
    "\n",
    "import pandas as pd\n",
    "import pickle\n",
    "from sklearn.feature_extraction.text import CountVectorizer\n",
    "from sklearn.ensemble import RandomForestClassifier\n",
    "\n",
    "## Build the training model using clustered reports data\n",
    "## Input data contains the report id, report details (headings) and cluster number based on Kmeans clustering\n",
    "traindata = pd.read_csv('ClusteredReportsData_1.csv',names=['RepID','RepCols','cl_no'],skiprows=[0],header=None)\n",
    "reportsdata = traindata['RepCols'] \n",
    "clustername = traindata['cl_no']\n",
    "\n",
    "## Vectorize the reports data to feed into the training model\n",
    "vect = CountVectorizer()\n",
    "vect.fit(reportsdata)\n",
    "rf_dtm = vect.transform(reportsdata)\n",
    "rf_Ddtm = rf_dtm.toarray()\n",
    "\n",
    "## Train the RandomForest supervised classification model\n",
    "rf = RandomForestClassifier(n_estimators=100) # initialize\n",
    "rf.fit(rf_Ddtm, clustername) # fit the data to the algorithm\n",
    "\n",
    "## Store the trained model \n",
    "with open('RandomForestTrainedModel', 'wb') as f:\n",
    "    pickle.dump(rf, f)\n"
   ]
  },
  {
   "cell_type": "code",
   "execution_count": null,
   "metadata": {
    "collapsed": true
   },
   "outputs": [],
   "source": []
  }
 ],
 "metadata": {
  "anaconda-cloud": {},
  "kernelspec": {
   "display_name": "Python [default]",
   "language": "python",
   "name": "python3"
  },
  "language_info": {
   "codemirror_mode": {
    "name": "ipython",
    "version": 3
   },
   "file_extension": ".py",
   "mimetype": "text/x-python",
   "name": "python",
   "nbconvert_exporter": "python",
   "pygments_lexer": "ipython3",
   "version": "3.5.2"
  }
 },
 "nbformat": 4,
 "nbformat_minor": 1
}
